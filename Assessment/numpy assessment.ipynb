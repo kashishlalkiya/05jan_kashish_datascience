{
 "cells": [
  {
   "cell_type": "markdown",
   "id": "c293d8fd",
   "metadata": {},
   "source": [
    "# Q1"
   ]
  },
  {
   "cell_type": "code",
   "execution_count": 7,
   "id": "d0f82d77",
   "metadata": {},
   "outputs": [
    {
     "data": {
      "text/plain": [
       "array([[1, 2, 3, 4],\n",
       "       [5, 6, 7, 8]])"
      ]
     },
     "execution_count": 7,
     "metadata": {},
     "output_type": "execute_result"
    }
   ],
   "source": [
    "import numpy as np\n",
    "arr1 = np.array([1, 2, 3, 4, 5, 6, 7, 8])\n",
    "arr2 = arr1.reshape(2,4)\n",
    "arr2"
   ]
  },
  {
   "cell_type": "markdown",
   "id": "56cd3cb8",
   "metadata": {},
   "source": [
    "# Q2"
   ]
  },
  {
   "cell_type": "code",
   "execution_count": 4,
   "id": "f19f98f7",
   "metadata": {},
   "outputs": [
    {
     "data": {
      "text/plain": [
       "array([2, 4])"
      ]
     },
     "execution_count": 4,
     "metadata": {},
     "output_type": "execute_result"
    }
   ],
   "source": [
    "arr1 = np.array([1, 2, 3, 2, 3, 4, 3, 4, 5, 6]) \n",
    "arr2 = np.array([7, 2, 10, 2, 7, 4, 9, 4, 9, 8])\n",
    "arr3 = np.intersect1d(arr1,arr2)\n",
    "arr3"
   ]
  },
  {
   "cell_type": "markdown",
   "id": "1d626084",
   "metadata": {},
   "source": [
    "# Q3"
   ]
  },
  {
   "cell_type": "code",
   "execution_count": 16,
   "id": "9721aba8",
   "metadata": {},
   "outputs": [
    {
     "data": {
      "text/plain": [
       "array([ 6,  9, 10])"
      ]
     },
     "execution_count": 16,
     "metadata": {},
     "output_type": "execute_result"
    }
   ],
   "source": [
    "arr1 = np.array([2, 6, 1, 9, 10, 3, 27]) \n",
    "arr2 = arr1[(arr1 >= 5) & (arr1 <= 10)]\n",
    "arr2"
   ]
  },
  {
   "cell_type": "markdown",
   "id": "c9024962",
   "metadata": {},
   "source": [
    "# Q4"
   ]
  },
  {
   "cell_type": "code",
   "execution_count": 3,
   "id": "ae842a21",
   "metadata": {},
   "outputs": [
    {
     "data": {
      "text/plain": [
       "array([ 0,  1,  2, ..., 12, 13, 14])"
      ]
     },
     "execution_count": 3,
     "metadata": {},
     "output_type": "execute_result"
    }
   ],
   "source": [
    "import numpy as np\n",
    "arr1 = np.array([0, 1, 2, 3, 4, 5, 6, 7, 8, 9, 10, 11, 12, 13, 14])\n",
    "arr2 = np.set_printoptions(threshold=6)\n",
    "arr1"
   ]
  },
  {
   "cell_type": "markdown",
   "id": "b3e58928",
   "metadata": {},
   "source": [
    "# Q1"
   ]
  },
  {
   "cell_type": "code",
   "execution_count": 1,
   "id": "c135ad64",
   "metadata": {},
   "outputs": [
    {
     "data": {
      "text/plain": [
       "array([[6.23042070e-307, 4.67296746e-307, 1.69121096e-306,\n",
       "        1.89144350e-307, 7.56587584e-307],\n",
       "       [1.37961302e-306, 1.05699242e-307, 8.01097889e-307,\n",
       "        1.78020169e-306, 7.56601165e-307],\n",
       "       [1.02359984e-306, 1.29060531e-306, 6.89804132e-307,\n",
       "        1.11261027e-306, 8.34451928e-308],\n",
       "       [9.45699680e-308, 1.11261774e-306, 1.29060871e-306,\n",
       "        8.34424766e-308, 2.12203497e-312]])"
      ]
     },
     "execution_count": 1,
     "metadata": {},
     "output_type": "execute_result"
    }
   ],
   "source": [
    "#how to create an empty and a full NumPy array:\n",
    "\n",
    "import numpy as np\n",
    "\n",
    "#empty array\n",
    "arr1 = np.empty((4,5))\n",
    "arr1\n",
    "\n",
    "#explanation:creates an array without initializing its values."
   ]
  },
  {
   "cell_type": "code",
   "execution_count": 2,
   "id": "050bd8a9",
   "metadata": {},
   "outputs": [
    {
     "data": {
      "text/plain": [
       "array([[3, 3, 3],\n",
       "       [3, 3, 3],\n",
       "       [3, 3, 3]])"
      ]
     },
     "execution_count": 2,
     "metadata": {},
     "output_type": "execute_result"
    }
   ],
   "source": [
    "#full array\n",
    "arr1 = np.full((3,3),3)\n",
    "arr1\n",
    "\n",
    "#explanation:creates an array filled with a specified value."
   ]
  },
  {
   "cell_type": "markdown",
   "id": "9a78842e",
   "metadata": {},
   "source": [
    "# Q2"
   ]
  },
  {
   "cell_type": "code",
   "execution_count": 3,
   "id": "62ca64e8",
   "metadata": {},
   "outputs": [
    {
     "data": {
      "text/plain": [
       "array([[0., 0., 0.],\n",
       "       [0., 0., 0.],\n",
       "       [0., 0., 0.],\n",
       "       [0., 0., 0.]])"
      ]
     },
     "execution_count": 3,
     "metadata": {},
     "output_type": "execute_result"
    }
   ],
   "source": [
    "#create a numpy array filled with all zeroes:\n",
    "\n",
    "arr1 = np.zeros([4, 3])   \n",
    "arr1\n",
    "\n",
    "#explanation:creates an array of zeros with the specified shape."
   ]
  },
  {
   "cell_type": "markdown",
   "id": "e56716fa",
   "metadata": {},
   "source": [
    "# Q3"
   ]
  },
  {
   "cell_type": "code",
   "execution_count": 4,
   "id": "0e6ef9de",
   "metadata": {},
   "outputs": [
    {
     "data": {
      "text/plain": [
       "array([[1., 1., 1.],\n",
       "       [1., 1., 1.],\n",
       "       [1., 1., 1.],\n",
       "       [1., 1., 1.]])"
      ]
     },
     "execution_count": 4,
     "metadata": {},
     "output_type": "execute_result"
    }
   ],
   "source": [
    "#create a numpy array filled with all ones:\n",
    "\n",
    "arr1 = np.ones([4, 3])   \n",
    "arr1\n",
    " \n",
    "#explanation:creates an array of ones with the specified shape."
   ]
  },
  {
   "cell_type": "markdown",
   "id": "3814c1b3",
   "metadata": {},
   "source": [
    "# Q4"
   ]
  },
  {
   "cell_type": "code",
   "execution_count": 5,
   "id": "2c628f86",
   "metadata": {},
   "outputs": [
    {
     "name": "stdout",
     "output_type": "stream",
     "text": [
      "Row exists.\n"
     ]
    }
   ],
   "source": [
    "#check whether a numpy array contains a specific row:\n",
    "\n",
    "arr1 = np.array([[1,2,3],[4,5,6]])\n",
    "arr1 = np.array([4,5,6])\n",
    "arr2 = any(np.array(arr1))\n",
    "if arr2 :\n",
    "    print(\"Row exists.\")\n",
    "else:\n",
    "    print(\"Row does not exist.\")\n",
    "    \n",
    "#explanation: It checks if any row in the array is equal to the specified row."
   ]
  },
  {
   "cell_type": "markdown",
   "id": "5ed65334",
   "metadata": {},
   "source": [
    "# Q5"
   ]
  },
  {
   "cell_type": "code",
   "execution_count": 6,
   "id": "77efa910",
   "metadata": {},
   "outputs": [
    {
     "name": "stdout",
     "output_type": "stream",
     "text": [
      "original array\n",
      "[['1' '2' '3']\n",
      " ['4' 'a' '6']\n",
      " ['3' '2' '1']]\n",
      "after removing specified row:\n",
      "[['3' '2' '1']]\n"
     ]
    }
   ],
   "source": [
    "#how to remove rows in numpy array that contains non-numeric values:\n",
    "\n",
    "arr1 = np.array([[1,2,3],[4,'a',6],[3,2,1]])\n",
    "remove = [0,1]\n",
    "arr2 = np.delete(arr1, remove, axis=0)\n",
    "print(\"original array\")\n",
    "print(arr1)\n",
    "print(\"after removing specified row:\")\n",
    "print(arr2)\n",
    "\n",
    "#explanation:It removes rows containing NaN(Not a Number) values."
   ]
  },
  {
   "cell_type": "markdown",
   "id": "12aaff2a",
   "metadata": {},
   "source": [
    "# Q6"
   ]
  },
  {
   "cell_type": "code",
   "execution_count": 7,
   "id": "8f46eaad",
   "metadata": {},
   "outputs": [
    {
     "name": "stdout",
     "output_type": "stream",
     "text": [
      "removed single dimensional entries:\n",
      "[1 2 3]\n"
     ]
    }
   ],
   "source": [
    "#remove single-dimensional entries from the shape of an array:\n",
    "\n",
    "arr1 = np.array([[[1, 2, 3]]])\n",
    "reshape_arr1 = np.ravel(arr1).reshape(-1)\n",
    "print(\"removed single dimensional entries:\")\n",
    "print(reshape_arr1)\n",
    "\n",
    "#explanation:it converts multi-dimensional into one-dimensional"
   ]
  },
  {
   "cell_type": "markdown",
   "id": "506d21e3",
   "metadata": {},
   "source": [
    "# Q7"
   ]
  },
  {
   "cell_type": "code",
   "execution_count": 8,
   "id": "9f58d3cf",
   "metadata": {},
   "outputs": [
    {
     "name": "stdout",
     "output_type": "stream",
     "text": [
      "2\n"
     ]
    }
   ],
   "source": [
    "#find the number of occurrences of a sequence in a numpy array:\n",
    "\n",
    "arr1 = np.array([1,2,3,4,6,1,2,3,5,8])\n",
    "arr2 = repr(arr1).count(\"1, 2, 3\")\n",
    "print(arr2)\n",
    "\n",
    "#explanation:It finds the number of occurrences of the specified sequence."
   ]
  },
  {
   "cell_type": "markdown",
   "id": "480ce9b3",
   "metadata": {},
   "source": [
    "# Q8"
   ]
  },
  {
   "cell_type": "code",
   "execution_count": 9,
   "id": "b42bc87e",
   "metadata": {},
   "outputs": [
    {
     "name": "stdout",
     "output_type": "stream",
     "text": [
      "2\n"
     ]
    }
   ],
   "source": [
    "#find the most frequent value in a numpy array:\n",
    "\n",
    "arr1 = np.array([1,2,2,4,5,2]) \n",
    "print(np.bincount(arr1).argmax())\n",
    "\n",
    "#explanation: It finds the value with the highest frequency."
   ]
  },
  {
   "cell_type": "markdown",
   "id": "f5ce0602",
   "metadata": {},
   "source": [
    "# Q9"
   ]
  },
  {
   "cell_type": "code",
   "execution_count": 10,
   "id": "db2e711a",
   "metadata": {},
   "outputs": [
    {
     "name": "stdout",
     "output_type": "stream",
     "text": [
      "[[1 2 3]\n",
      " [4 5 6]\n",
      " [7 8 9]]\n"
     ]
    }
   ],
   "source": [
    "#combining a one and a two-dimensional numpy array:\n",
    "\n",
    "arr1 = np.array([1, 2, 3])\n",
    "arr2 = np.array([[4, 5, 6], [7, 8, 9]])\n",
    "arr3 = np.vstack((arr1, arr2))\n",
    "print(arr3)\n",
    "\n",
    "#explanation:it stacks arrays vertically."
   ]
  },
  {
   "cell_type": "markdown",
   "id": "cd55a5b0",
   "metadata": {},
   "source": [
    "# Q10"
   ]
  },
  {
   "cell_type": "code",
   "execution_count": 11,
   "id": "c6cd3328",
   "metadata": {},
   "outputs": [
    {
     "name": "stdout",
     "output_type": "stream",
     "text": [
      "[[1 3]\n",
      " [1 4]\n",
      " [2 3]\n",
      " [2 4]]\n"
     ]
    }
   ],
   "source": [
    "#how to build an array of all combinations of two numpy array:\n",
    "\n",
    "arr1 = np.array([1,2])\n",
    "arr2 = np.array([3,4])\n",
    "arr3 = np.array(np.meshgrid(arr1, arr2)).T.reshape(-1,2)\n",
    "print(arr3)\n",
    "\n",
    "#explanation: Creates a mesh of all combinations of elements from arr1 and arr2."
   ]
  },
  {
   "cell_type": "markdown",
   "id": "7c187447",
   "metadata": {},
   "source": [
    "# FUNCTIONS IN NUMPY"
   ]
  },
  {
   "cell_type": "code",
   "execution_count": null,
   "id": "e430fb69",
   "metadata": {},
   "outputs": [],
   "source": [
    "#LISTS OF FUNCTIONS ARE:\n",
    "function1 = np.transpose\n",
    "function2 = np.ravel\n",
    "function3 = np.ones\n",
    "function4 = np.zeroes\n",
    "function5 = np.concatenate\n",
    "function6 = np.vstack\n",
    "function7 = np.hstack"
   ]
  },
  {
   "cell_type": "markdown",
   "id": "769aa9c5",
   "metadata": {},
   "source": [
    "# function 1 - np.transpose"
   ]
  },
  {
   "cell_type": "code",
   "execution_count": 12,
   "id": "379dc82c",
   "metadata": {},
   "outputs": [
    {
     "data": {
      "text/plain": [
       "array([[1, 4],\n",
       "       [2, 5],\n",
       "       [3, 6]])"
      ]
     },
     "execution_count": 12,
     "metadata": {},
     "output_type": "execute_result"
    }
   ],
   "source": [
    "#EXPLANATION: Transpose is use when we need to change dimensions in a 2D array. It works with 2D inputs.\n",
    "\n",
    "import numpy as np\n",
    "\n",
    "arr1 = np.array([[1, 2, 3],\n",
    "                 [4, 5, 6]])\n",
    "arr1 = np.transpose(arr1)\n",
    "arr1\n",
    "\n",
    "#in these example it changes the rows and columns in 2*3 array."
   ]
  },
  {
   "cell_type": "markdown",
   "id": "4cd2d077",
   "metadata": {},
   "source": [
    "# function 2 - np.ravel"
   ]
  },
  {
   "cell_type": "code",
   "execution_count": 13,
   "id": "82b90d7a",
   "metadata": {},
   "outputs": [
    {
     "data": {
      "text/plain": [
       "array([1, 2, 3, 4, 5, 6])"
      ]
     },
     "execution_count": 13,
     "metadata": {},
     "output_type": "execute_result"
    }
   ],
   "source": [
    "#EXPLANATION: Ravel is used when we need a flattened copy of the array. If the array is already 1D it is unnecessary.\n",
    "\n",
    "arr1 = np.array([[1, 2, 3],\n",
    "                [4, 5, 6]])\n",
    "\n",
    "arr1 = np.ravel(arr1)\n",
    "arr1\n",
    "\n",
    "#in these example the 2*3 array is flattened into 1D array."
   ]
  },
  {
   "cell_type": "markdown",
   "id": "7d8f59ce",
   "metadata": {},
   "source": [
    "# function 3 - np.ones"
   ]
  },
  {
   "cell_type": "code",
   "execution_count": 14,
   "id": "dadc3977",
   "metadata": {},
   "outputs": [
    {
     "data": {
      "text/plain": [
       "array([[1., 1., 1.],\n",
       "       [1., 1., 1.]])"
      ]
     },
     "execution_count": 14,
     "metadata": {},
     "output_type": "execute_result"
    }
   ],
   "source": [
    "#EXPLANATION: Ones is used when we need an array filled with ones and that also of a specific shape.\n",
    "\n",
    "arr1 = np.ones((2, 3))\n",
    "arr1\n",
    "\n",
    "#in these example 2*3 array is created which is filled with ones."
   ]
  },
  {
   "cell_type": "markdown",
   "id": "a392c6fa",
   "metadata": {},
   "source": [
    "# function 4 - np.zeroes"
   ]
  },
  {
   "cell_type": "code",
   "execution_count": 15,
   "id": "2bded5e1",
   "metadata": {},
   "outputs": [
    {
     "data": {
      "text/plain": [
       "array([[0., 0., 0.],\n",
       "       [0., 0., 0.]])"
      ]
     },
     "execution_count": 15,
     "metadata": {},
     "output_type": "execute_result"
    }
   ],
   "source": [
    "#EXPLANATION: Zeroes is used when we need an array filled with zeroes and that also of a specific shape.\n",
    "\n",
    "arr1 = np.zeros((2,3))\n",
    "arr1\n",
    "\n",
    "#in these example 2*3 array is created which is filled with zeroes."
   ]
  },
  {
   "cell_type": "markdown",
   "id": "86495393",
   "metadata": {},
   "source": [
    "# function 5 - np.concatenate"
   ]
  },
  {
   "cell_type": "code",
   "execution_count": 16,
   "id": "56b065be",
   "metadata": {},
   "outputs": [
    {
     "data": {
      "text/plain": [
       "array([[1, 2],\n",
       "       [3, 4],\n",
       "       [5, 6]])"
      ]
     },
     "execution_count": 16,
     "metadata": {},
     "output_type": "execute_result"
    }
   ],
   "source": [
    "#EXPLANATION: Concatenate is used when we want to join the array by connecting then horizantally or vertically.\n",
    "\n",
    "arr1 = np.array([[1, 2],\n",
    "                 [3, 4]])\n",
    "\n",
    "arr2 = np.array([[5, 6]])\n",
    "arr3 = np.concatenate((arr1, arr2), axis=0)\n",
    "arr3\n",
    "\n",
    "#in these example arr1 and arr2 are concatenated along with axis 0 which results in 2*2 array."
   ]
  },
  {
   "cell_type": "markdown",
   "id": "39b18b0d",
   "metadata": {},
   "source": [
    " # function 6 - np.vstack"
   ]
  },
  {
   "cell_type": "code",
   "execution_count": 17,
   "id": "351493ff",
   "metadata": {},
   "outputs": [
    {
     "data": {
      "text/plain": [
       "array([[1, 2, 3],\n",
       "       [4, 5, 6]])"
      ]
     },
     "execution_count": 17,
     "metadata": {},
     "output_type": "execute_result"
    }
   ],
   "source": [
    "#EXPLANATION: vstack is used when we want virtically stack array with the same number of columns.\n",
    "\n",
    "arr1 = np.array([1, 2, 3])\n",
    "arr2 = np.array([4, 5, 6])\n",
    "arr3 = np.vstack((arr1, arr2))\n",
    "arr3\n",
    "\n",
    "#in these example arr1 and arr2 are vertically stacked and it creats 2*3 array."
   ]
  },
  {
   "cell_type": "markdown",
   "id": "3051acf4",
   "metadata": {},
   "source": [
    " # function 7 - np.hstack"
   ]
  },
  {
   "cell_type": "code",
   "execution_count": 18,
   "id": "2b600dce",
   "metadata": {},
   "outputs": [
    {
     "data": {
      "text/plain": [
       "array([1, 2, 3, 4, 5, 6])"
      ]
     },
     "execution_count": 18,
     "metadata": {},
     "output_type": "execute_result"
    }
   ],
   "source": [
    "#EXPLANATION: hstack is used when we want horizontally stack array with the same number of rows.\n",
    "\n",
    "arr1 = np.array([1, 2, 3])\n",
    "arr2 = np.array([4, 5, 6])\n",
    "arr3 = np.hstack((arr1, arr2))\n",
    "arr3\n",
    "\n",
    "#in these example arr1 and arr2 are horizontally stacked and it creats 1D array."
   ]
  }
 ],
 "metadata": {
  "kernelspec": {
   "display_name": "Python 3 (ipykernel)",
   "language": "python",
   "name": "python3"
  },
  "language_info": {
   "codemirror_mode": {
    "name": "ipython",
    "version": 3
   },
   "file_extension": ".py",
   "mimetype": "text/x-python",
   "name": "python",
   "nbconvert_exporter": "python",
   "pygments_lexer": "ipython3",
   "version": "3.11.5"
  }
 },
 "nbformat": 4,
 "nbformat_minor": 5
}
