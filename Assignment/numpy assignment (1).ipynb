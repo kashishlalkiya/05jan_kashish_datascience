{
 "cells": [
  {
   "cell_type": "markdown",
   "id": "629d50c4",
   "metadata": {},
   "source": [
    "# Q1"
   ]
  },
  {
   "cell_type": "code",
   "execution_count": 30,
   "id": "988d5f15",
   "metadata": {},
   "outputs": [
    {
     "data": {
      "text/plain": [
       "array([[6.23042070e-307, 4.67296746e-307, 1.69121096e-306,\n",
       "        1.89144350e-307, 7.56587584e-307],\n",
       "       [1.37961302e-306, 1.05699242e-307, 8.01097889e-307,\n",
       "        1.78020169e-306, 7.56601165e-307],\n",
       "       [1.02359984e-306, 2.78149851e-307, 1.06811422e-306,\n",
       "        8.45590539e-307, 6.23054972e-307],\n",
       "       [1.11260687e-306, 1.69118108e-306, 1.42418987e-306,\n",
       "        2.22522596e-306, 9.34610469e-307]])"
      ]
     },
     "execution_count": 30,
     "metadata": {},
     "output_type": "execute_result"
    }
   ],
   "source": [
    "#how to create an empty and a full NumPy array:\n",
    "\n",
    "import numpy as np\n",
    "\n",
    "#empty array\n",
    "arr1 = np.empty((4,5))\n",
    "arr1\n",
    "\n",
    "#explanation:creates an array without initializing its values."
   ]
  },
  {
   "cell_type": "code",
   "execution_count": 19,
   "id": "fe940add",
   "metadata": {},
   "outputs": [
    {
     "data": {
      "text/plain": [
       "array([[3, 3, 3],\n",
       "       [3, 3, 3],\n",
       "       [3, 3, 3]])"
      ]
     },
     "execution_count": 19,
     "metadata": {},
     "output_type": "execute_result"
    }
   ],
   "source": [
    "#full array\n",
    "arr1 = np.full((3,3),3)\n",
    "arr1\n",
    "\n",
    "#explanation:creates an array filled with a specified value."
   ]
  },
  {
   "cell_type": "markdown",
   "id": "280aaf30",
   "metadata": {},
   "source": [
    "# Q2"
   ]
  },
  {
   "cell_type": "code",
   "execution_count": 17,
   "id": "95a2afd5",
   "metadata": {},
   "outputs": [
    {
     "data": {
      "text/plain": [
       "array([[0., 0., 0.],\n",
       "       [0., 0., 0.],\n",
       "       [0., 0., 0.],\n",
       "       [0., 0., 0.]])"
      ]
     },
     "execution_count": 17,
     "metadata": {},
     "output_type": "execute_result"
    }
   ],
   "source": [
    "#create a numpy array filled with all zeroes:\n",
    "\n",
    "arr1 = np.zeros([4, 3])   \n",
    "arr1\n",
    "\n",
    "#explanation:creates an array of zeros with the specified shape."
   ]
  },
  {
   "cell_type": "markdown",
   "id": "4caaa57b",
   "metadata": {},
   "source": [
    "# Q3"
   ]
  },
  {
   "cell_type": "code",
   "execution_count": 20,
   "id": "9e23f8d4",
   "metadata": {},
   "outputs": [
    {
     "data": {
      "text/plain": [
       "array([[1., 1., 1.],\n",
       "       [1., 1., 1.],\n",
       "       [1., 1., 1.],\n",
       "       [1., 1., 1.]])"
      ]
     },
     "execution_count": 20,
     "metadata": {},
     "output_type": "execute_result"
    }
   ],
   "source": [
    "#create a numpy array filled with all ones:\n",
    "\n",
    "arr1 = np.ones([4, 3])   \n",
    "arr1\n",
    " \n",
    "#explanation:creates an array of ones with the specified shape."
   ]
  },
  {
   "cell_type": "markdown",
   "id": "5d3a9410",
   "metadata": {},
   "source": [
    "# Q4"
   ]
  },
  {
   "cell_type": "code",
   "execution_count": 27,
   "id": "27516b93",
   "metadata": {},
   "outputs": [
    {
     "name": "stdout",
     "output_type": "stream",
     "text": [
      "Row exists.\n"
     ]
    }
   ],
   "source": [
    "#check whether a numpy array contains a specific row:\n",
    "\n",
    "arr1 = np.array([[1,2,3],[4,5,6]])\n",
    "arr1 = np.array([4,5,6])\n",
    "arr2 = any(np.array(arr1))\n",
    "if arr2 :\n",
    "    print(\"Row exists.\")\n",
    "else:\n",
    "    print(\"Row does not exist.\")\n",
    "    \n",
    "#explanation: It checks if any row in the array is equal to the specified row."
   ]
  },
  {
   "cell_type": "markdown",
   "id": "37ba98cf",
   "metadata": {},
   "source": [
    "# Q5"
   ]
  },
  {
   "cell_type": "code",
   "execution_count": 121,
   "id": "3f92f159",
   "metadata": {},
   "outputs": [
    {
     "name": "stdout",
     "output_type": "stream",
     "text": [
      "original array\n",
      "[['1' '2' '3']\n",
      " ['4' 'a' '6']\n",
      " ['3' '2' '1']]\n",
      "after removing specified row:\n",
      "[['3' '2' '1']]\n"
     ]
    }
   ],
   "source": [
    "#how to remove rows in numpy array that contains non-numeric values:\n",
    "\n",
    "arr1 = np.array([[1,2,3],[4,'a',6],[3,2,1]])\n",
    "remove = [0,1]\n",
    "arr2 = np.delete(arr1, remove, axis=0)\n",
    "print(\"original array\")\n",
    "print(arr1)\n",
    "print(\"after removing specified row:\")\n",
    "print(arr2)\n",
    "\n",
    "#explanation:It removes rows containing NaN(Not a Number) values."
   ]
  },
  {
   "cell_type": "markdown",
   "id": "51735030",
   "metadata": {},
   "source": [
    "# Q6"
   ]
  },
  {
   "cell_type": "code",
   "execution_count": 71,
   "id": "36f58169",
   "metadata": {},
   "outputs": [
    {
     "name": "stdout",
     "output_type": "stream",
     "text": [
      "removed single dimensional entries:\n",
      "[1 2 3]\n"
     ]
    }
   ],
   "source": [
    "#remove single-dimensional entries from the shape of an array:\n",
    "\n",
    "arr1 = np.array([[[1, 2, 3]]])\n",
    "reshape_arr1 = np.ravel(arr1).reshape(-1)\n",
    "print(\"removed single dimensional entries:\")\n",
    "print(reshape_arr1)\n",
    "\n",
    "#explanation:it converts multi-dimensional into one-dimensional"
   ]
  },
  {
   "cell_type": "markdown",
   "id": "e6430cf0",
   "metadata": {},
   "source": [
    "# Q7"
   ]
  },
  {
   "cell_type": "code",
   "execution_count": 85,
   "id": "666da7e6",
   "metadata": {},
   "outputs": [
    {
     "name": "stdout",
     "output_type": "stream",
     "text": [
      "2\n"
     ]
    }
   ],
   "source": [
    "#find the number of occurrences of a sequence in a numpy array:\n",
    "\n",
    "arr1 = np.array([1,2,3,4,6,1,2,3,5,8])\n",
    "arr2 = repr(arr1).count(\"1, 2, 3\")\n",
    "print(arr2)\n",
    "\n",
    "#explanation:It finds the number of occurrences of the specified sequence."
   ]
  },
  {
   "cell_type": "markdown",
   "id": "0e75cdcb",
   "metadata": {},
   "source": [
    "# Q8"
   ]
  },
  {
   "cell_type": "code",
   "execution_count": 101,
   "id": "effc3938",
   "metadata": {},
   "outputs": [
    {
     "name": "stdout",
     "output_type": "stream",
     "text": [
      "2\n"
     ]
    }
   ],
   "source": [
    "#find the most frequent value in a numpy array:\n",
    "\n",
    "arr1 = np.array([1,2,2,4,5,2]) \n",
    "print(np.bincount(arr1).argmax())\n",
    "\n",
    "#explanation: It finds the value with the highest frequency."
   ]
  },
  {
   "cell_type": "markdown",
   "id": "8dfa49e1",
   "metadata": {},
   "source": [
    "# Q9"
   ]
  },
  {
   "cell_type": "code",
   "execution_count": 99,
   "id": "1a4062cf",
   "metadata": {},
   "outputs": [
    {
     "name": "stdout",
     "output_type": "stream",
     "text": [
      "[[1 2 3]\n",
      " [4 5 6]\n",
      " [7 8 9]]\n"
     ]
    }
   ],
   "source": [
    "#combining a one and a two-dimensional numpy array:\n",
    "\n",
    "arr1 = np.array([1, 2, 3])\n",
    "arr2 = np.array([[4, 5, 6], [7, 8, 9]])\n",
    "arr3 = np.vstack((arr1, arr2))\n",
    "print(arr3)\n",
    "\n",
    "#explanation:it stacks arrays vertically."
   ]
  },
  {
   "cell_type": "markdown",
   "id": "b7332817",
   "metadata": {},
   "source": [
    "# Q10"
   ]
  },
  {
   "cell_type": "code",
   "execution_count": 100,
   "id": "f08bc361",
   "metadata": {},
   "outputs": [
    {
     "name": "stdout",
     "output_type": "stream",
     "text": [
      "[[1 3]\n",
      " [1 4]\n",
      " [2 3]\n",
      " [2 4]]\n"
     ]
    }
   ],
   "source": [
    "#how to build an array of all combinations of two numpy array:\n",
    "\n",
    "arr1 = np.array([1,2])\n",
    "arr2 = np.array([3,4])\n",
    "arr3 = np.array(np.meshgrid(arr1, arr2)).T.reshape(-1,2)\n",
    "print(arr3)\n",
    "\n",
    "#explanation: Creates a mesh of all combinations of elements from arr1 and arr2."
   ]
  },
  {
   "cell_type": "markdown",
   "id": "ced3a6d1",
   "metadata": {},
   "source": [
    "# FUNCTIONS IN NUMPY"
   ]
  },
  {
   "cell_type": "code",
   "execution_count": null,
   "id": "7805b9d3",
   "metadata": {},
   "outputs": [],
   "source": [
    "#LISTS OF FUNCTIONS ARE:\n",
    "function1 = np.transpose\n",
    "function2 = np.ravel\n",
    "function3 = np.ones\n",
    "function4 = np.zeroes\n",
    "function5 = np.concatenate\n",
    "function6 = np.vstack\n",
    "function7 = np.hstack"
   ]
  },
  {
   "cell_type": "markdown",
   "id": "ae11a302",
   "metadata": {},
   "source": [
    "# function 1 - np.transpose"
   ]
  },
  {
   "cell_type": "code",
   "execution_count": 104,
   "id": "446dad66",
   "metadata": {},
   "outputs": [
    {
     "data": {
      "text/plain": [
       "array([[1, 4],\n",
       "       [2, 5],\n",
       "       [3, 6]])"
      ]
     },
     "execution_count": 104,
     "metadata": {},
     "output_type": "execute_result"
    }
   ],
   "source": [
    "#EXPLANATION: Transpose is use when we need to change dimensions in a 2D array. It works with 2D inputs.\n",
    "\n",
    "import numpy as np\n",
    "\n",
    "arr1 = np.array([[1, 2, 3],\n",
    "                 [4, 5, 6]])\n",
    "arr1 = np.transpose(arr1)\n",
    "arr1\n",
    "\n",
    "#in these example it changes the rows and columns in 2*3 array."
   ]
  },
  {
   "cell_type": "markdown",
   "id": "ccd99a0a",
   "metadata": {},
   "source": [
    "# function 2 - np.ravel"
   ]
  },
  {
   "cell_type": "code",
   "execution_count": 105,
   "id": "35cb078a",
   "metadata": {},
   "outputs": [
    {
     "data": {
      "text/plain": [
       "array([1, 2, 3, 4, 5, 6])"
      ]
     },
     "execution_count": 105,
     "metadata": {},
     "output_type": "execute_result"
    }
   ],
   "source": [
    "#EXPLANATION: Ravel is used when we need a flattened copy of the array. If the array is already 1D it is unnecessary.\n",
    "\n",
    "arr1 = np.array([[1, 2, 3],\n",
    "                [4, 5, 6]])\n",
    "\n",
    "arr1 = np.ravel(arr1)\n",
    "arr1\n",
    "\n",
    "#in these example the 2*3 array is flattened into 1D array."
   ]
  },
  {
   "cell_type": "markdown",
   "id": "5c677418",
   "metadata": {},
   "source": [
    "# function 3 - np.ones"
   ]
  },
  {
   "cell_type": "code",
   "execution_count": 106,
   "id": "807dc550",
   "metadata": {},
   "outputs": [
    {
     "data": {
      "text/plain": [
       "array([[1., 1., 1.],\n",
       "       [1., 1., 1.]])"
      ]
     },
     "execution_count": 106,
     "metadata": {},
     "output_type": "execute_result"
    }
   ],
   "source": [
    "#EXPLANATION: Ones is used when we need an array filled with ones and that also of a specific shape.\n",
    "\n",
    "arr1 = np.ones((2, 3))\n",
    "arr1\n",
    "\n",
    "#in these example 2*3 array is created which is filled with ones."
   ]
  },
  {
   "cell_type": "markdown",
   "id": "10054f01",
   "metadata": {},
   "source": [
    "# function 4 - np.zeroes"
   ]
  },
  {
   "cell_type": "code",
   "execution_count": 108,
   "id": "88ad9beb",
   "metadata": {},
   "outputs": [
    {
     "data": {
      "text/plain": [
       "array([[0., 0., 0.],\n",
       "       [0., 0., 0.]])"
      ]
     },
     "execution_count": 108,
     "metadata": {},
     "output_type": "execute_result"
    }
   ],
   "source": [
    "#EXPLANATION: Zeroes is used when we need an array filled with zeroes and that also of a specific shape.\n",
    "\n",
    "arr1 = np.zeros((2,3))\n",
    "arr1\n",
    "\n",
    "#in these example 2*3 array is created which is filled with zeroes."
   ]
  },
  {
   "cell_type": "markdown",
   "id": "773d2005",
   "metadata": {},
   "source": [
    "# function 5 - np.concatenate"
   ]
  },
  {
   "cell_type": "code",
   "execution_count": 112,
   "id": "e7591ca5",
   "metadata": {},
   "outputs": [
    {
     "data": {
      "text/plain": [
       "array([[1, 2],\n",
       "       [3, 4],\n",
       "       [5, 6]])"
      ]
     },
     "execution_count": 112,
     "metadata": {},
     "output_type": "execute_result"
    }
   ],
   "source": [
    "#EXPLANATION: Concatenate is used when we want to join the array by connecting then horizantally or vertically.\n",
    "\n",
    "arr1 = np.array([[1, 2],\n",
    "                 [3, 4]])\n",
    "\n",
    "arr2 = np.array([[5, 6]])\n",
    "arr3 = np.concatenate((arr1, arr2), axis=0)\n",
    "arr3\n",
    "\n",
    "#in these example arr1 and arr2 are concatenated along with axis 0 which results in 2*2 array."
   ]
  },
  {
   "cell_type": "markdown",
   "id": "796418f1",
   "metadata": {},
   "source": [
    "# function 6 - np.vstack"
   ]
  },
  {
   "cell_type": "code",
   "execution_count": 114,
   "id": "f265fab9",
   "metadata": {},
   "outputs": [
    {
     "data": {
      "text/plain": [
       "array([[1, 2, 3],\n",
       "       [4, 5, 6]])"
      ]
     },
     "execution_count": 114,
     "metadata": {},
     "output_type": "execute_result"
    }
   ],
   "source": [
    "#EXPLANATION: vstack is used when we want virtically stack array with the same number of columns.\n",
    "\n",
    "arr1 = np.array([1, 2, 3])\n",
    "arr2 = np.array([4, 5, 6])\n",
    "arr3 = np.vstack((arr1, arr2))\n",
    "arr3\n",
    "\n",
    "#in these example arr1 and arr2 are vertically stacked and it creats 2*3 array."
   ]
  },
  {
   "cell_type": "markdown",
   "id": "3be94301",
   "metadata": {},
   "source": [
    "# function 7 - np.hstack"
   ]
  },
  {
   "cell_type": "code",
   "execution_count": 115,
   "id": "13ade40b",
   "metadata": {},
   "outputs": [
    {
     "data": {
      "text/plain": [
       "array([1, 2, 3, 4, 5, 6])"
      ]
     },
     "execution_count": 115,
     "metadata": {},
     "output_type": "execute_result"
    }
   ],
   "source": [
    "#EXPLANATION: hstack is used when we want horizontally stack array with the same number of rows.\n",
    "\n",
    "arr1 = np.array([1, 2, 3])\n",
    "arr2 = np.array([4, 5, 6])\n",
    "arr3 = np.hstack((arr1, arr2))\n",
    "arr3\n",
    "\n",
    "#in these example arr1 and arr2 are horizontally stacked and it creats 1D array."
   ]
  }
 ],
 "metadata": {
  "kernelspec": {
   "display_name": "Python 3 (ipykernel)",
   "language": "python",
   "name": "python3"
  },
  "language_info": {
   "codemirror_mode": {
    "name": "ipython",
    "version": 3
   },
   "file_extension": ".py",
   "mimetype": "text/x-python",
   "name": "python",
   "nbconvert_exporter": "python",
   "pygments_lexer": "ipython3",
   "version": "3.11.5"
  }
 },
 "nbformat": 4,
 "nbformat_minor": 5
}
